{
 "cells": [
  {
   "cell_type": "code",
   "execution_count": 38,
   "id": "d26e450e",
   "metadata": {},
   "outputs": [],
   "source": [
    "import pandas as pd\n",
    "import sqlalchemy as sql\n",
    "import pyads\n",
    "import pymssql\n",
    "import pypyodbc as odbc"
   ]
  },
  {
   "cell_type": "code",
   "execution_count": 39,
   "id": "575083c5",
   "metadata": {},
   "outputs": [],
   "source": [
    "#plc = pyads.Connection('5.119.159.52.1.1', pyads.PORT_TC3PLC1)\n",
    "\n",
    "#plc.open()"
   ]
  },
  {
   "cell_type": "code",
   "execution_count": 40,
   "id": "afd7e438",
   "metadata": {},
   "outputs": [],
   "source": [
    "#plc.read_by_name('GVL.EL3443.MDP5001_341_Input.MDP5001_341_L1_Basic_Voltage')"
   ]
  },
  {
   "cell_type": "code",
   "execution_count": 41,
   "id": "90e9d3da",
   "metadata": {},
   "outputs": [],
   "source": [
    "#plc.close()"
   ]
  },
  {
   "cell_type": "code",
   "execution_count": 42,
   "id": "8721c344",
   "metadata": {},
   "outputs": [],
   "source": [
    "Driver = 'SQL SERVER'\n",
    "Server = 'AYO-NB8'\n",
    "Database = 'PyADS'\n",
    "\n",
    "connection_string = f\"\"\"\n",
    "    DRIVER={{{Driver}}};\n",
    "    SERVER={Server};\n",
    "    Database={Database};\n",
    "    Trust_Connection=yes\n",
    "\"\"\"\n",
    "conn = odbc.connect(connection_string)"
   ]
  },
  {
   "cell_type": "code",
   "execution_count": 43,
   "id": "d9b8c95a",
   "metadata": {},
   "outputs": [],
   "source": [
    "#query = \"INSERT INTO EL3443 (id, fVoltage, fCurrent, fAcPower, fApPower, fRePower, fPWF, fFreq) VALUES (?, ?, ?, ?, ?, ?, ?, ?)\"\n",
    "#val = (4, 1, 1, 1, 1, 1, 1, 1)\n",
    "\n",
    "#cursor.execute(query, val)\n",
    "#conn.commit()"
   ]
  },
  {
   "cell_type": "code",
   "execution_count": 44,
   "id": "62e014e3",
   "metadata": {},
   "outputs": [
    {
     "data": {
      "text/html": [
       "<div>\n",
       "<style scoped>\n",
       "    .dataframe tbody tr th:only-of-type {\n",
       "        vertical-align: middle;\n",
       "    }\n",
       "\n",
       "    .dataframe tbody tr th {\n",
       "        vertical-align: top;\n",
       "    }\n",
       "\n",
       "    .dataframe thead th {\n",
       "        text-align: right;\n",
       "    }\n",
       "</style>\n",
       "<table border=\"1\" class=\"dataframe\">\n",
       "  <thead>\n",
       "    <tr style=\"text-align: right;\">\n",
       "      <th></th>\n",
       "      <th>fvoltage</th>\n",
       "      <th>fcurrent</th>\n",
       "      <th>facpower</th>\n",
       "      <th>fappower</th>\n",
       "      <th>frepower</th>\n",
       "      <th>fpqf</th>\n",
       "      <th>ffreq</th>\n",
       "    </tr>\n",
       "    <tr>\n",
       "      <th>id</th>\n",
       "      <th></th>\n",
       "      <th></th>\n",
       "      <th></th>\n",
       "      <th></th>\n",
       "      <th></th>\n",
       "      <th></th>\n",
       "      <th></th>\n",
       "    </tr>\n",
       "  </thead>\n",
       "  <tbody>\n",
       "    <tr>\n",
       "      <th>1</th>\n",
       "      <td>242.704193</td>\n",
       "      <td>-0.008795</td>\n",
       "      <td>-0.027324</td>\n",
       "      <td>2.134490</td>\n",
       "      <td>2.134315</td>\n",
       "      <td>0.996691</td>\n",
       "      <td>50.031918</td>\n",
       "    </tr>\n",
       "    <tr>\n",
       "      <th>2</th>\n",
       "      <td>242.587845</td>\n",
       "      <td>-0.008803</td>\n",
       "      <td>-0.051194</td>\n",
       "      <td>2.135606</td>\n",
       "      <td>2.134993</td>\n",
       "      <td>0.996662</td>\n",
       "      <td>50.030983</td>\n",
       "    </tr>\n",
       "    <tr>\n",
       "      <th>3</th>\n",
       "      <td>242.713181</td>\n",
       "      <td>-0.008814</td>\n",
       "      <td>-0.045052</td>\n",
       "      <td>2.139300</td>\n",
       "      <td>2.138825</td>\n",
       "      <td>0.996662</td>\n",
       "      <td>50.028816</td>\n",
       "    </tr>\n",
       "    <tr>\n",
       "      <th>4</th>\n",
       "      <td>242.699081</td>\n",
       "      <td>-0.008842</td>\n",
       "      <td>-0.049646</td>\n",
       "      <td>2.145965</td>\n",
       "      <td>2.145391</td>\n",
       "      <td>0.996659</td>\n",
       "      <td>50.027889</td>\n",
       "    </tr>\n",
       "    <tr>\n",
       "      <th>5</th>\n",
       "      <td>242.760391</td>\n",
       "      <td>-0.008795</td>\n",
       "      <td>-0.064997</td>\n",
       "      <td>2.134982</td>\n",
       "      <td>2.133992</td>\n",
       "      <td>0.996655</td>\n",
       "      <td>50.025177</td>\n",
       "    </tr>\n",
       "  </tbody>\n",
       "</table>\n",
       "</div>"
      ],
      "text/plain": [
       "      fvoltage  fcurrent  facpower  fappower  frepower      fpqf      ffreq\n",
       "id                                                                         \n",
       "1   242.704193 -0.008795 -0.027324  2.134490  2.134315  0.996691  50.031918\n",
       "2   242.587845 -0.008803 -0.051194  2.135606  2.134993  0.996662  50.030983\n",
       "3   242.713181 -0.008814 -0.045052  2.139300  2.138825  0.996662  50.028816\n",
       "4   242.699081 -0.008842 -0.049646  2.145965  2.145391  0.996659  50.027889\n",
       "5   242.760391 -0.008795 -0.064997  2.134982  2.133992  0.996655  50.025177"
      ]
     },
     "execution_count": 44,
     "metadata": {},
     "output_type": "execute_result"
    }
   ],
   "source": [
    "cursor = conn.cursor()\n",
    "new_query = \"SELECT * FROM EL3443\"\n",
    "cursor.execute(new_query)\n",
    "#result = cursor.fetchall()\n",
    "data = pd.DataFrame(cursor, columns=[i[0] for i in cursor.description])\n",
    "data = data.set_index('id')\n",
    "data.head()"
   ]
  },
  {
   "cell_type": "code",
   "execution_count": 45,
   "id": "5732789f",
   "metadata": {},
   "outputs": [],
   "source": [
    "conn.close()"
   ]
  },
  {
   "cell_type": "code",
   "execution_count": null,
   "id": "68ab3fd6",
   "metadata": {},
   "outputs": [],
   "source": []
  }
 ],
 "metadata": {
  "kernelspec": {
   "display_name": "Python 3 (ipykernel)",
   "language": "python",
   "name": "python3"
  },
  "language_info": {
   "codemirror_mode": {
    "name": "ipython",
    "version": 3
   },
   "file_extension": ".py",
   "mimetype": "text/x-python",
   "name": "python",
   "nbconvert_exporter": "python",
   "pygments_lexer": "ipython3",
   "version": "3.10.9"
  }
 },
 "nbformat": 4,
 "nbformat_minor": 5
}
