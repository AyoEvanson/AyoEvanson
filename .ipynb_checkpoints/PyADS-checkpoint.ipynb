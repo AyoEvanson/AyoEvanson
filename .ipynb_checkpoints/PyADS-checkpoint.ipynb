{
 "cells": [
  {
   "cell_type": "code",
   "execution_count": 146,
   "id": "d26e450e",
   "metadata": {},
   "outputs": [
    {
     "ename": "ImportError",
     "evalue": "cannot import name 'URL' from 'sqlalchemy' (C:\\Users\\AyoO\\AppData\\Local\\anaconda3\\lib\\site-packages\\sqlalchemy\\__init__.py)",
     "output_type": "error",
     "traceback": [
      "\u001b[1;31m---------------------------------------------------------------------------\u001b[0m",
      "\u001b[1;31mImportError\u001b[0m                               Traceback (most recent call last)",
      "Cell \u001b[1;32mIn[146], line 3\u001b[0m\n\u001b[0;32m      1\u001b[0m \u001b[38;5;28;01mimport\u001b[39;00m \u001b[38;5;21;01mpandas\u001b[39;00m \u001b[38;5;28;01mas\u001b[39;00m \u001b[38;5;21;01mpd\u001b[39;00m\n\u001b[0;32m      2\u001b[0m \u001b[38;5;28;01mimport\u001b[39;00m \u001b[38;5;21;01msqlalchemy\u001b[39;00m \u001b[38;5;28;01mas\u001b[39;00m \u001b[38;5;21;01msql\u001b[39;00m\n\u001b[1;32m----> 3\u001b[0m \u001b[38;5;28;01mfrom\u001b[39;00m \u001b[38;5;21;01msqlalchemy\u001b[39;00m \u001b[38;5;28;01mimport\u001b[39;00m URL\n\u001b[0;32m      4\u001b[0m \u001b[38;5;28;01mimport\u001b[39;00m \u001b[38;5;21;01mpyads\u001b[39;00m\n\u001b[0;32m      5\u001b[0m \u001b[38;5;28;01mimport\u001b[39;00m \u001b[38;5;21;01mpymssql\u001b[39;00m\n",
      "\u001b[1;31mImportError\u001b[0m: cannot import name 'URL' from 'sqlalchemy' (C:\\Users\\AyoO\\AppData\\Local\\anaconda3\\lib\\site-packages\\sqlalchemy\\__init__.py)"
     ]
    }
   ],
   "source": [
    "import pandas as pd\n",
    "import sqlalchemy as sql\n",
    "import pyads\n",
    "import pymssql\n",
    "import pypyodbc as odbc"
   ]
  },
  {
   "cell_type": "code",
   "execution_count": 118,
   "id": "575083c5",
   "metadata": {},
   "outputs": [],
   "source": [
    "plc = pyads.Connection('5.119.159.52.1.1', pyads.PORT_TC3PLC1)\n",
    "\n",
    "plc.open()"
   ]
  },
  {
   "cell_type": "code",
   "execution_count": 119,
   "id": "afd7e438",
   "metadata": {},
   "outputs": [
    {
     "data": {
      "text/plain": [
       "238.81834411621094"
      ]
     },
     "execution_count": 119,
     "metadata": {},
     "output_type": "execute_result"
    }
   ],
   "source": [
    "plc.read_by_name('MAIN.EL3443.MDP5001_341_Input.MDP5001_341_L1_Basic_Voltage')"
   ]
  },
  {
   "cell_type": "code",
   "execution_count": 120,
   "id": "90e9d3da",
   "metadata": {},
   "outputs": [],
   "source": [
    "plc.close()"
   ]
  },
  {
   "cell_type": "code",
   "execution_count": 121,
   "id": "e65ca0df",
   "metadata": {},
   "outputs": [],
   "source": [
    "#Provider=SQLOLEDB;Data Source=AYO-NB8;Initial Catalog=PyADS;Integrated Security=SSPI;\n",
    "\n",
    "#sql_engine = create_engine('mssql+pyodbc://NT+AUTHORITY%5CSYSTEM@AYO-NB8:1433/PyADS?driver=ODBC+Driver+18+for+SQL+Server')\n",
    "#sql_engine"
   ]
  },
  {
   "cell_type": "code",
   "execution_count": 122,
   "id": "8721c344",
   "metadata": {},
   "outputs": [],
   "source": [
    "Driver = 'SQL SERVER'\n",
    "Server = 'AYO-NB8'\n",
    "Database = 'PyADS'\n",
    "\n",
    "connection_string = f\"\"\"\n",
    "    DRIVER={{{Driver}}};\n",
    "    SERVER={Server};\n",
    "    Database={Database};\n",
    "    Trust_Connection=yes\n",
    "\"\"\"\n",
    "conn = odbc.connect(connection_string)"
   ]
  },
  {
   "cell_type": "code",
   "execution_count": 123,
   "id": "d9b8c95a",
   "metadata": {},
   "outputs": [],
   "source": [
    "cursor = conn.cursor()\n",
    "\n",
    "query = \"INSERT INTO EL3443 (id, fVoltage, fCurrent, fAcPower, fApPower, fRePower, fPWF, fFreq) VALUES (?, ?, ?, ?, ?, ?, ?, ?)\"\n",
    "val = (3, 1, 1, 1, 1, 1, 1, 1)\n",
    "\n",
    "cursor.execute(query, val)\n",
    "conn.commit()"
   ]
  },
  {
   "cell_type": "code",
   "execution_count": 124,
   "id": "62e014e3",
   "metadata": {},
   "outputs": [
    {
     "name": "stdout",
     "output_type": "stream",
     "text": [
      "(1, None, None, None, None, None, None, None)\n",
      "(2, None, None, None, None, None, None, None)\n",
      "(3, 1.0, 1.0, 1.0, 1.0, 1.0, 1.0, 1.0)\n"
     ]
    }
   ],
   "source": [
    "new_query = \"SELECT * FROM EL3443\"\n",
    "cursor.execute(new_query)\n",
    "result = cursor.fetchall()\n",
    "for x in result:\n",
    "    print(x)"
   ]
  },
  {
   "cell_type": "code",
   "execution_count": 125,
   "id": "5732789f",
   "metadata": {},
   "outputs": [],
   "source": [
    "conn.close()"
   ]
  },
  {
   "cell_type": "code",
   "execution_count": null,
   "id": "e80ac7b4",
   "metadata": {},
   "outputs": [],
   "source": []
  },
  {
   "cell_type": "code",
   "execution_count": null,
   "id": "f1b6d44b",
   "metadata": {},
   "outputs": [],
   "source": []
  },
  {
   "cell_type": "code",
   "execution_count": null,
   "id": "68ab3fd6",
   "metadata": {},
   "outputs": [],
   "source": []
  }
 ],
 "metadata": {
  "kernelspec": {
   "display_name": "Python 3 (ipykernel)",
   "language": "python",
   "name": "python3"
  },
  "language_info": {
   "codemirror_mode": {
    "name": "ipython",
    "version": 3
   },
   "file_extension": ".py",
   "mimetype": "text/x-python",
   "name": "python",
   "nbconvert_exporter": "python",
   "pygments_lexer": "ipython3",
   "version": "3.10.9"
  }
 },
 "nbformat": 4,
 "nbformat_minor": 5
}
