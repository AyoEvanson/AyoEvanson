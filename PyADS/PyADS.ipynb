{
 "cells": [
  {
   "cell_type": "code",
   "execution_count": 119,
   "id": "77862577",
   "metadata": {},
   "outputs": [
    {
     "name": "stdout",
     "output_type": "stream",
     "text": [
      "Note: you may need to restart the kernel to use updated packages.\n"
     ]
    },
    {
     "name": "stderr",
     "output_type": "stream",
     "text": [
      "ERROR: Could not find a version that satisfies the requirement snowflake-sqlalchemy==1.4.32 (from versions: 1.0.7, 1.0.8, 1.0.9, 1.1.0, 1.1.1, 1.1.2, 1.1.3, 1.1.4, 1.1.5, 1.1.6, 1.1.9, 1.1.10, 1.1.11, 1.1.12, 1.1.13, 1.1.14, 1.1.15, 1.1.16, 1.1.17, 1.1.18, 1.2.0, 1.2.1, 1.2.2, 1.2.3, 1.2.4, 1.2.5, 1.3.1, 1.3.2, 1.3.3, 1.3.4, 1.4.0, 1.4.1, 1.4.2, 1.4.3, 1.4.4, 1.4.5, 1.4.6, 1.4.7, 1.5.0)\n",
      "ERROR: No matching distribution found for snowflake-sqlalchemy==1.4.32\n"
     ]
    }
   ],
   "source": [
    "pip install snowflake-sqlalchemy==1.4.32"
   ]
  },
  {
   "cell_type": "code",
   "execution_count": 116,
   "id": "050839c6",
   "metadata": {},
   "outputs": [
    {
     "ename": "ImportError",
     "evalue": "cannot import name 'URL' from 'sqlalchemy' (C:\\Users\\AyoO\\AppData\\Local\\anaconda3\\lib\\site-packages\\sqlalchemy\\__init__.py)",
     "output_type": "error",
     "traceback": [
      "\u001b[1;31m---------------------------------------------------------------------------\u001b[0m",
      "\u001b[1;31mImportError\u001b[0m                               Traceback (most recent call last)",
      "Cell \u001b[1;32mIn[116], line 3\u001b[0m\n\u001b[0;32m      1\u001b[0m \u001b[38;5;28;01mimport\u001b[39;00m \u001b[38;5;21;01mpyads\u001b[39;00m \u001b[38;5;28;01mas\u001b[39;00m \u001b[38;5;21;01mpa\u001b[39;00m\n\u001b[0;32m      2\u001b[0m \u001b[38;5;28;01mimport\u001b[39;00m \u001b[38;5;21;01msqlalchemy\u001b[39;00m \u001b[38;5;28;01mas\u001b[39;00m \u001b[38;5;21;01msql\u001b[39;00m\n\u001b[1;32m----> 3\u001b[0m \u001b[38;5;28;01mfrom\u001b[39;00m \u001b[38;5;21;01msqlalchemy\u001b[39;00m \u001b[38;5;28;01mimport\u001b[39;00m URL\n",
      "\u001b[1;31mImportError\u001b[0m: cannot import name 'URL' from 'sqlalchemy' (C:\\Users\\AyoO\\AppData\\Local\\anaconda3\\lib\\site-packages\\sqlalchemy\\__init__.py)"
     ]
    }
   ],
   "source": [
    "import pyads as pa\n",
    "import sqlalchemy as sql\n",
    "from sqlalchemy import URL"
   ]
  },
  {
   "cell_type": "code",
   "execution_count": null,
   "id": "0f20452b",
   "metadata": {},
   "outputs": [],
   "source": [
    "plc = pa.Connection('5.119.159.52.1.1', pa.PORT_TC3PLC1)\n",
    "\n",
    "plc.open()"
   ]
  },
  {
   "cell_type": "code",
   "execution_count": null,
   "id": "c262146d",
   "metadata": {},
   "outputs": [],
   "source": [
    "plc.read_state()"
   ]
  },
  {
   "cell_type": "code",
   "execution_count": null,
   "id": "a550d5ca",
   "metadata": {},
   "outputs": [],
   "source": [
    "basic_Volt = plc.read_by_name('MAIN.EL3443.MDP5001_341_Input.MDP5001_341_L1_Basic_Voltage')\n",
    "basic_Volt"
   ]
  },
  {
   "cell_type": "code",
   "execution_count": null,
   "id": "cc3c0ea1",
   "metadata": {},
   "outputs": [],
   "source": [
    "plc.close()"
   ]
  },
  {
   "cell_type": "code",
   "execution_count": null,
   "id": "e1e36e61",
   "metadata": {},
   "outputs": [],
   "source": [
    "connect_string = URL.create(\n",
    "    \"mssql+pg8000\",\n",
    "    username=\"BECKHOFF%2FAyoO\",\n",
    "    password=\"Sister2000%21\",\n",
    "    host=\"localhost\",\n",
    "    database=\"MSSQLLocalDB\"\n",
    ")\n",
    "\n",
    "sql_engine=sql.create_engine(connect_string)"
   ]
  },
  {
   "cell_type": "code",
   "execution_count": null,
   "id": "010849cf",
   "metadata": {},
   "outputs": [],
   "source": []
  }
 ],
 "metadata": {
  "kernelspec": {
   "display_name": "Python 3 (ipykernel)",
   "language": "python",
   "name": "python3"
  },
  "language_info": {
   "codemirror_mode": {
    "name": "ipython",
    "version": 3
   },
   "file_extension": ".py",
   "mimetype": "text/x-python",
   "name": "python",
   "nbconvert_exporter": "python",
   "pygments_lexer": "ipython3",
   "version": "3.10.9"
  }
 },
 "nbformat": 4,
 "nbformat_minor": 5
}
