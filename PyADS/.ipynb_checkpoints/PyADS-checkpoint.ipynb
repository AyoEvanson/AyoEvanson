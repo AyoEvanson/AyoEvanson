{
 "cells": [
  {
   "cell_type": "code",
   "execution_count": 4,
   "id": "050839c6",
   "metadata": {},
   "outputs": [],
   "source": [
    "import pyads as pa"
   ]
  },
  {
   "cell_type": "code",
   "execution_count": 14,
   "id": "0f20452b",
   "metadata": {},
   "outputs": [],
   "source": [
    "plc = pa.Connection('5.119.159.52.1.1', pa.PORT_SPS1)\n",
    "\n",
    "plc.open()"
   ]
  },
  {
   "cell_type": "code",
   "execution_count": 15,
   "id": "e44b2c95",
   "metadata": {},
   "outputs": [],
   "source": [
    "plc.read_state()"
   ]
  },
  {
   "cell_type": "code",
   "execution_count": null,
   "id": "85dd44da",
   "metadata": {},
   "outputs": [],
   "source": []
  }
 ],
 "metadata": {
  "kernelspec": {
   "display_name": "Python 3 (ipykernel)",
   "language": "python",
   "name": "python3"
  },
  "language_info": {
   "codemirror_mode": {
    "name": "ipython",
    "version": 3
   },
   "file_extension": ".py",
   "mimetype": "text/x-python",
   "name": "python",
   "nbconvert_exporter": "python",
   "pygments_lexer": "ipython3",
   "version": "3.10.9"
  }
 },
 "nbformat": 4,
 "nbformat_minor": 5
}
